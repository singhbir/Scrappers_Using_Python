{
 "cells": [
  {
   "cell_type": "code",
   "execution_count": 4,
   "metadata": {},
   "outputs": [],
   "source": [
    "from selenium import webdriver\n",
    "from selenium.webdriver.common.by import By \n",
    "from selenium.webdriver.support.ui import WebDriverWait \n",
    "from selenium.webdriver.support import expected_conditions as EC \n",
    "from selenium.common.exceptions import TimeoutException"
   ]
  },
  {
   "cell_type": "code",
   "execution_count": 32,
   "metadata": {},
   "outputs": [
    {
     "name": "stdout",
     "output_type": "stream",
     "text": [
      "Learn SASS - Make CSS Powerful  :  FREE\n",
      "Android P And Java Bundle  :  1599\n",
      "Android P With Machine Learning Apps - 26+ Projects In Total  :  799\n",
      "Flutter And Dart Course - Ongoing  :  FREE\n",
      "Machine Learning Interview Preparation  :  300\n",
      "Aptitude And Logical Reasoning  :  FREE\n",
      "Java Coding Interview Preparation Mock Test - Lite Version  :  FREE\n",
      "Data Structure And Algorithm Interview Preparation  :  400\n",
      "HTML CSS Coding Interview Preparation  :  300\n",
      "JavaScript Coding Interview Preparation  :  300\n",
      "C Coding Interview Preparation  :  300\n",
      "C++ Coding Interview Preparation  :  300\n",
      "Python Coding Interview Preparation  :  300\n",
      "Android Technical Interview Preparation  :  300\n",
      "Java Coding Interview Preparation  :  300\n",
      "Complete GIT And GitHub Course  :  699\n",
      "Publishing Custom Cocoapods  :  FREE\n",
      "Android And Java Bootcamp Bundle  :  1399\n",
      "Full Stack Web Development With NodeJS And MongoDB  :  1799\n",
      "Complete Backend Development With NodeJS  :  799\n",
      "Complete Android Development With Java - Build 10 Apps  :  799\n",
      "Javascript For 2018 Developer  :  FREE\n",
      "Machine Learning And Data Science Bootcamp  :  2499\n",
      "Full Stack Web Development With Django  :  1899\n",
      "BackEnd Web Development With Django - Build 8 Projects  :  799\n",
      "The Complete Front End Web Developer Bootcamp - 14 Projects  :  1199\n",
      "React Native Design - Build Front End Of 10 Android IOS Apps  :  799\n",
      "Python 3, Be A Paid Scripting Professional  :  599\n",
      "Complete React JS Web Developer With ES6 - Build 10 Projects  :  1199\n",
      "Build An Android Chat App With Firebase  :  899\n",
      "Ethical Hacking Master Course : Web Bug Bounty From Scratch  :  799\n",
      "Sketch - Fun With Icons  :  FREE\n",
      "Complete Java Bootcamp For Beginners  :  699\n",
      "Complete IOS 11 Developer Bootcamp  :  799\n",
      "Write Quicker HTML5 And CSS 3; Productivity Hacks With Emmet  :  FREE\n",
      "Complete Bootstrap 4 Course - Build 3 Projects  :  FREE\n",
      "Learn Kotlin And Be Ready For Modern Android Development  :  799\n",
      "PHP Super Series From Scratch. Learn With Projects  :  799\n",
      "Learn C As Your First Programming Language  :  599\n",
      "Be A NodeJS Expert From Scratch  :  799\n",
      "Web Application Penetration Testing And Bug Bounty Course  :  999\n",
      "Complete Penetration Testing And Ethical Hacking Bootcamp  :  1199\n"
     ]
    }
   ],
   "source": [
    "browser = webdriver.Chrome(\"./chromedriver\")\n",
    "browser.get(\"https://courses.learncodeonline.in/learn\")\n",
    "timeout = 20\n",
    "try:\n",
    "    WebDriverWait(browser, timeout).until(EC.visibility_of_element_located((By.XPATH, \"//span[@class='prox']\")))\n",
    "except TimeoutException:\n",
    "    print(\"Timed out waiting for page to load\")\n",
    "    browser.quit()\n",
    "titles_element = browser.find_elements_by_xpath(\"//span[@class='prox']\")\n",
    "prices=browser.find_elements_by_xpath(\"//span[@class='priceText pull-right']\")\n",
    "for i,j in zip(titles_element,prices):\n",
    "    print(i.text,\" : \",j.text)"
   ]
  },
  {
   "cell_type": "code",
   "execution_count": 23,
   "metadata": {},
   "outputs": [],
   "source": []
  },
  {
   "cell_type": "code",
   "execution_count": null,
   "metadata": {},
   "outputs": [],
   "source": []
  }
 ],
 "metadata": {
  "kernelspec": {
   "display_name": "Python 3",
   "language": "python",
   "name": "python3"
  },
  "language_info": {
   "codemirror_mode": {
    "name": "ipython",
    "version": 3
   },
   "file_extension": ".py",
   "mimetype": "text/x-python",
   "name": "python",
   "nbconvert_exporter": "python",
   "pygments_lexer": "ipython3",
   "version": "3.7.1"
  }
 },
 "nbformat": 4,
 "nbformat_minor": 2
}
