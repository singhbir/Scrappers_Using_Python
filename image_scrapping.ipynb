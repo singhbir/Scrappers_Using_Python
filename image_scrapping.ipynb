{
 "cells": [
  {
   "cell_type": "code",
   "execution_count": 1,
   "metadata": {},
   "outputs": [],
   "source": [
    "import requests"
   ]
  },
  {
   "cell_type": "code",
   "execution_count": 2,
   "metadata": {},
   "outputs": [],
   "source": [
    "import bs4"
   ]
  },
  {
   "cell_type": "code",
   "execution_count": 3,
   "metadata": {},
   "outputs": [],
   "source": [
    "import urllib.request"
   ]
  },
  {
   "cell_type": "code",
   "execution_count": 4,
   "metadata": {},
   "outputs": [],
   "source": [
    "import re"
   ]
  },
  {
   "cell_type": "code",
   "execution_count": 5,
   "metadata": {},
   "outputs": [
    {
     "name": "stdout",
     "output_type": "stream",
     "text": [
      "enter any urlhttps://www.youtube.com/\n"
     ]
    }
   ],
   "source": [
    "ul=input(\"enter any url\")"
   ]
  },
  {
   "cell_type": "code",
   "execution_count": 6,
   "metadata": {},
   "outputs": [],
   "source": [
    "response=requests.get(ul)\n",
    "soup=bs4.BeautifulSoup(response.text,'lxml')\n"
   ]
  },
  {
   "cell_type": "code",
   "execution_count": 7,
   "metadata": {},
   "outputs": [],
   "source": [
    "li=soup.find_all(\"img\")"
   ]
  },
  {
   "cell_type": "code",
   "execution_count": 8,
   "metadata": {},
   "outputs": [],
   "source": [
    "l2=[]\n",
    "try:\n",
    "    for i in li:\n",
    "        l2.append(i['src'])\n",
    "except:\n",
    "    pass\n",
    "\n",
    "    "
   ]
  },
  {
   "cell_type": "code",
   "execution_count": 10,
   "metadata": {},
   "outputs": [
    {
     "data": {
      "text/plain": [
       "['/yts/img/pixel-vfl3z5WfW.gif',\n",
       " '/yts/img/pixel-vfl3z5WfW.gif',\n",
       " '/yts/img/pixel-vfl3z5WfW.gif',\n",
       " '/yts/img/pixel-vfl3z5WfW.gif',\n",
       " '/yts/img/pixel-vfl3z5WfW.gif',\n",
       " '/yts/img/pixel-vfl3z5WfW.gif',\n",
       " '/yts/img/pixel-vfl3z5WfW.gif',\n",
       " '/yts/img/pixel-vfl3z5WfW.gif',\n",
       " '/yts/img/pixel-vfl3z5WfW.gif',\n",
       " '/yts/img/pixel-vfl3z5WfW.gif',\n",
       " 'https://i.ytimg.com/vi/q6a7YHDK-ik/hqdefault.jpg?sqp=-oaymwEiCMQBEG5IWvKriqkDFQgBFQAAAAAYASUAAMhCPQCAokN4AQ==&rs=AOn4CLDdWaPbebOjxLvRoeXOwA17KWTwAw',\n",
       " 'https://i.ytimg.com/vi/d72vXhJDE6M/hqdefault.jpg?sqp=-oaymwEiCMQBEG5IWvKriqkDFQgBFQAAAAAYASUAAMhCPQCAokN4AQ==&rs=AOn4CLCl28wdu71RkI0-y_DSIx2Am0F_xg',\n",
       " 'https://i.ytimg.com/vi/krTCxSXiM6o/hqdefault.jpg?sqp=-oaymwEiCMQBEG5IWvKriqkDFQgBFQAAAAAYASUAAMhCPQCAokN4AQ==&rs=AOn4CLB9kaOIvMUpsnuoouWX89MnfRNYXg',\n",
       " 'https://i.ytimg.com/vi/FK_vkYVqj2g/hqdefault.jpg?sqp=-oaymwEiCMQBEG5IWvKriqkDFQgBFQAAAAAYASUAAMhCPQCAokN4AQ==&rs=AOn4CLDMnWTEuEBFsvTaZt--1DsNqYvrhQ',\n",
       " 'https://i.ytimg.com/vi/A20Tbak25Kk/hqdefault.jpg?sqp=-oaymwEiCMQBEG5IWvKriqkDFQgBFQAAAAAYASUAAMhCPQCAokN4AQ==&rs=AOn4CLARjrkhvniG1_GLB6AODYhmf-2BkA',\n",
       " 'https://i.ytimg.com/vi/s0sgOX95J6Y/hqdefault.jpg?sqp=-oaymwEiCMQBEG5IWvKriqkDFQgBFQAAAAAYASUAAMhCPQCAokN4AQ==&rs=AOn4CLCWlkBWmtJVFD15SvPnAG8GYH-yjg',\n",
       " '/yts/img/pixel-vfl3z5WfW.gif',\n",
       " '/yts/img/pixel-vfl3z5WfW.gif',\n",
       " '/yts/img/pixel-vfl3z5WfW.gif',\n",
       " '/yts/img/pixel-vfl3z5WfW.gif',\n",
       " '/yts/img/pixel-vfl3z5WfW.gif',\n",
       " '/yts/img/pixel-vfl3z5WfW.gif',\n",
       " '/yts/img/pixel-vfl3z5WfW.gif',\n",
       " '/yts/img/pixel-vfl3z5WfW.gif',\n",
       " '/yts/img/pixel-vfl3z5WfW.gif',\n",
       " '//yt3.ggpht.com/FZqx_D_ioticwPOSpm0Ild3uOl51Su8H5oXg2g2D-N-yYCRLveaDeyBsX-wXEM1uIgBpWPBjsEVW-oTBZ0c=s88-nd-c-c0xffffffff-rj-k-no',\n",
       " 'https://i.ytimg.com/vi/waQUEly4kPw/hqdefault.jpg?sqp=-oaymwEiCMQBEG5IWvKriqkDFQgBFQAAAAAYASUAAMhCPQCAokN4AQ==&rs=AOn4CLA9V4NFdw4AsXW07ZmRQTzHhAMISA',\n",
       " 'https://i.ytimg.com/vi/epxpSBx36ao/hqdefault.jpg?sqp=-oaymwEiCMQBEG5IWvKriqkDFQgBFQAAAAAYASUAAMhCPQCAokN4AQ==&rs=AOn4CLCSsECB1o3ClO6OLkUnu-fnxKSv_g',\n",
       " 'https://i.ytimg.com/vi/67U7Q2zgy3Q/hqdefault.jpg?sqp=-oaymwEiCMQBEG5IWvKriqkDFQgBFQAAAAAYASUAAMhCPQCAokN4AQ==&rs=AOn4CLA6lMfs6aap3Ft5qMKEHODgcom_ag',\n",
       " 'https://i.ytimg.com/vi/br6-hEKGeHs/hqdefault.jpg?sqp=-oaymwEiCMQBEG5IWvKriqkDFQgBFQAAAAAYASUAAMhCPQCAokN4AQ==&rs=AOn4CLCd_p7YPSYD8wnIv--TDXgVzL-SLw',\n",
       " 'https://i.ytimg.com/vi/JVX5gCYnhdk/hqdefault.jpg?sqp=-oaymwEiCMQBEG5IWvKriqkDFQgBFQAAAAAYASUAAMhCPQCAokN4AQ==&rs=AOn4CLBTRIGKT4snQIIEAI94v92XsDd--g',\n",
       " 'https://i.ytimg.com/vi/QOAhzbuDDQw/hqdefault.jpg?sqp=-oaymwEiCMQBEG5IWvKriqkDFQgBFQAAAAAYASUAAMhCPQCAokN4AQ==&rs=AOn4CLAKP-KZrC49o-fXYB1tE9idNl7rdw',\n",
       " '/yts/img/pixel-vfl3z5WfW.gif',\n",
       " '/yts/img/pixel-vfl3z5WfW.gif',\n",
       " '/yts/img/pixel-vfl3z5WfW.gif',\n",
       " '/yts/img/pixel-vfl3z5WfW.gif',\n",
       " '/yts/img/pixel-vfl3z5WfW.gif',\n",
       " '//yt3.ggpht.com/cEecxk6PJRhRMT2ma0R-TBDIGxO6YU1KaZmmBoAGvpbos5klMv2Xo507P1W_oWjw2NSdpcwKaCnaNih4DA=s88-nd-c-c0xffffffff-rj-k-no',\n",
       " 'https://i.ytimg.com/vi/JTTyjUsON_E/hqdefault.jpg?sqp=-oaymwEiCMQBEG5IWvKriqkDFQgBFQAAAAAYASUAAMhCPQCAokN4AQ==&rs=AOn4CLBbfpWA-ICG0MA7CJ-Nb2OAMuaUlA',\n",
       " 'https://i.ytimg.com/vi/_KhQT-LGb-4/hqdefault.jpg?sqp=-oaymwEiCMQBEG5IWvKriqkDFQgBFQAAAAAYASUAAMhCPQCAokN4AQ==&rs=AOn4CLDYGbGCDrTDJ8qkl4CKQdJco4tl4g',\n",
       " 'https://i.ytimg.com/vi/PBxj7k31TPs/hqdefault.jpg?sqp=-oaymwEiCMQBEG5IWvKriqkDFQgBFQAAAAAYASUAAMhCPQCAokN4AQ==&rs=AOn4CLAE51Pgpe9xmgISz-8CNH8vK9QOZg',\n",
       " 'https://i.ytimg.com/vi/TRa9IMvccjg/hqdefault.jpg?sqp=-oaymwEiCMQBEG5IWvKriqkDFQgBFQAAAAAYASUAAMhCPQCAokN4AQ==&rs=AOn4CLAL2cVtjWWM_iLMuqzSvauyu9zRgw',\n",
       " 'https://i.ytimg.com/vi/rJqX-YUZddc/hqdefault.jpg?sqp=-oaymwEiCMQBEG5IWvKriqkDFQgBFQAAAAAYASUAAMhCPQCAokN4AQ==&rs=AOn4CLBHKDiA4_uBQM3X2IgrD_wPL7rybg',\n",
       " 'https://i.ytimg.com/vi/vu5-aKf_QqA/hqdefault.jpg?sqp=-oaymwEiCMQBEG5IWvKriqkDFQgBFQAAAAAYASUAAMhCPQCAokN4AQ==&rs=AOn4CLA6jsMsoGGYnNGdxCb91r2f4c4SZQ',\n",
       " '/yts/img/pixel-vfl3z5WfW.gif',\n",
       " '/yts/img/pixel-vfl3z5WfW.gif',\n",
       " '/yts/img/pixel-vfl3z5WfW.gif',\n",
       " '/yts/img/pixel-vfl3z5WfW.gif',\n",
       " '/yts/img/pixel-vfl3z5WfW.gif',\n",
       " '/yts/img/pixel-vfl3z5WfW.gif',\n",
       " '/yts/img/pixel-vfl3z5WfW.gif',\n",
       " '//yt3.ggpht.com/FDaq8KXRu4K5nDsDY9jaCMLYmZjtHaKJn46pbYa4RDpP8HNhIJqTsgX0pdDwew7cqmeiW8Dh-6S_RmZmnzA=s88-nd-c-c0xffffffff-rj-k-no',\n",
       " 'https://i.ytimg.com/vi/issr4OD42Gs/hqdefault.jpg?sqp=-oaymwEiCMQBEG5IWvKriqkDFQgBFQAAAAAYASUAAMhCPQCAokN4AQ==&rs=AOn4CLADs16oElOjzQhLGAv6XWBTRqZW7Q',\n",
       " 'https://i.ytimg.com/vi/S-ezhTXPVGU/hqdefault.jpg?sqp=-oaymwEiCMQBEG5IWvKriqkDFQgBFQAAAAAYASUAAMhCPQCAokN4AQ==&rs=AOn4CLB76evAybZGWUhatb15JNNUFt7dOw',\n",
       " 'https://i.ytimg.com/vi/1pw6VMkH4MA/hqdefault.jpg?sqp=-oaymwEiCMQBEG5IWvKriqkDFQgBFQAAAAAYASUAAMhCPQCAokN4AQ==&rs=AOn4CLBFfhTyNUJ51BceLTqFNuL7rNCInQ',\n",
       " 'https://i.ytimg.com/vi/dRLwMAGMJnQ/hqdefault.jpg?sqp=-oaymwEiCMQBEG5IWvKriqkDFQgBFQAAAAAYASUAAMhCPQCAokN4AQ==&rs=AOn4CLDwJ960iRwoIQi5XMvlcWTRHmmyQA',\n",
       " 'https://i.ytimg.com/vi/Mv67cU6IP2o/hqdefault.jpg?sqp=-oaymwEiCMQBEG5IWvKriqkDFQgBFQAAAAAYASUAAMhCPQCAokN4AQ==&rs=AOn4CLBU8qbbyOtCCgUMgemBiF2E2QzWWQ',\n",
       " 'https://i.ytimg.com/vi/Ci0WbaUH3no/hqdefault.jpg?sqp=-oaymwEiCMQBEG5IWvKriqkDFQgBFQAAAAAYASUAAMhCPQCAokN4AQ==&rs=AOn4CLCJPmqaS5yfPBEdbnbMdSWcIrulzg',\n",
       " '/yts/img/pixel-vfl3z5WfW.gif',\n",
       " '/yts/img/pixel-vfl3z5WfW.gif',\n",
       " '/yts/img/pixel-vfl3z5WfW.gif',\n",
       " '/yts/img/pixel-vfl3z5WfW.gif',\n",
       " '/yts/img/pixel-vfl3z5WfW.gif',\n",
       " '/yts/img/pixel-vfl3z5WfW.gif',\n",
       " '/yts/img/pixel-vfl3z5WfW.gif',\n",
       " '/yts/img/pixel-vfl3z5WfW.gif',\n",
       " '/yts/img/pixel-vfl3z5WfW.gif',\n",
       " '//yt3.ggpht.com/DOKOpQLGMpziPyo6zyT4lB2_tTi8RZ1w5Xz9qGiDaDq-OMvRPM_lUkxuxzQo_-ZxChfIf5fu1V-eJGa2Qw=s88-nd-c-c0xffffffff-rj-k-no',\n",
       " 'https://i.ytimg.com/vi/pg2uAsxtiQU/hqdefault.jpg?sqp=-oaymwEiCMQBEG5IWvKriqkDFQgBFQAAAAAYASUAAMhCPQCAokN4AQ==&rs=AOn4CLCMHCnpjVSKkd_dVnWGrVCn7cncig',\n",
       " 'https://i.ytimg.com/vi/iGBnjKnU4pU/hqdefault.jpg?sqp=-oaymwEiCMQBEG5IWvKriqkDFQgBFQAAAAAYASUAAMhCPQCAokN4AQ==&rs=AOn4CLD6KUbsZVPqGQzFPxybbRFxFTtsQg',\n",
       " 'https://i.ytimg.com/vi/fw6Zk06sJRo/hqdefault.jpg?sqp=-oaymwEiCMQBEG5IWvKriqkDFQgBFQAAAAAYASUAAMhCPQCAokN4AQ==&rs=AOn4CLDm0FYDJz_CIrtNjyBmKr02Lpt_zA',\n",
       " 'https://i.ytimg.com/vi/yjsGMwyow08/hqdefault.jpg?sqp=-oaymwEiCMQBEG5IWvKriqkDFQgBFQAAAAAYASUAAMhCPQCAokN4AQ==&rs=AOn4CLBv21BkX3bccqkcIOAofklWJvxIUw',\n",
       " 'https://i.ytimg.com/vi/SC1KW6MmzdA/hqdefault.jpg?sqp=-oaymwEiCMQBEG5IWvKriqkDFQgBFQAAAAAYASUAAMhCPQCAokN4AQ==&rs=AOn4CLCWhlBwFVDqYQgsPooYGt8_lVAtBw',\n",
       " 'https://i.ytimg.com/vi/SJJ-8pLDlPo/hqdefault.jpg?sqp=-oaymwEiCMQBEG5IWvKriqkDFQgBFQAAAAAYASUAAMhCPQCAokN4AQ==&rs=AOn4CLCmWOHMQTYhH2jQq46cqOL92QsQAQ',\n",
       " '/yts/img/pixel-vfl3z5WfW.gif',\n",
       " '/yts/img/pixel-vfl3z5WfW.gif',\n",
       " '/yts/img/pixel-vfl3z5WfW.gif',\n",
       " '/yts/img/pixel-vfl3z5WfW.gif',\n",
       " '/yts/img/pixel-vfl3z5WfW.gif',\n",
       " '/yts/img/pixel-vfl3z5WfW.gif',\n",
       " '/yts/img/pixel-vfl3z5WfW.gif',\n",
       " '//yt3.ggpht.com/vt-WDHqjB56TJg00FIPDW1tJxKu1yjx1cOg_0kyRC8C72VaA_JHrLkzMSAt4q7YQyMO3UH4q_FNY_BBvTA=s88-nd-c-c0xffffffff-rj-k-no',\n",
       " 'https://i.ytimg.com/vi/8Xmg99BgeVQ/hqdefault.jpg?sqp=-oaymwEiCMQBEG5IWvKriqkDFQgBFQAAAAAYASUAAMhCPQCAokN4AQ==&rs=AOn4CLDS65x4i5pT60XRt9sjjs6Tqq-oGw',\n",
       " 'https://i.ytimg.com/vi/tIVD1MV7n6s/hqdefault.jpg?sqp=-oaymwEiCMQBEG5IWvKriqkDFQgBFQAAAAAYASUAAMhCPQCAokN4AQ==&rs=AOn4CLDSBKl6zSetSxm7Ce3IZJ_4Zkq8Aw',\n",
       " 'https://i.ytimg.com/vi/e6fCZ4riIZ0/hqdefault.jpg?sqp=-oaymwEiCMQBEG5IWvKriqkDFQgBFQAAAAAYASUAAMhCPQCAokN4AQ==&rs=AOn4CLBj9Bz2kWP556OBZfuNU2k5_4CgEw',\n",
       " 'https://i.ytimg.com/vi/g4ch0i6mj_Y/hqdefault.jpg?sqp=-oaymwEiCMQBEG5IWvKriqkDFQgBFQAAAAAYASUAAMhCPQCAokN4AQ==&rs=AOn4CLDWUat--geLJxBsKFPTt-t2st6GYQ',\n",
       " 'https://i.ytimg.com/vi/QD2hxpQd_b0/hqdefault.jpg?sqp=-oaymwEiCMQBEG5IWvKriqkDFQgBFQAAAAAYASUAAMhCPQCAokN4AQ==&rs=AOn4CLBqJWMKCoGXHq8fh3x8w6xCHmygJw',\n",
       " 'https://i.ytimg.com/vi/tQ0jWrNWuj8/hqdefault.jpg?sqp=-oaymwEiCMQBEG5IWvKriqkDFQgBFQAAAAAYASUAAMhCPQCAokN4AQ==&rs=AOn4CLANxznydMze5IE7uzEpuWX3DIaiEQ',\n",
       " '/yts/img/pixel-vfl3z5WfW.gif',\n",
       " '/yts/img/pixel-vfl3z5WfW.gif',\n",
       " '/yts/img/pixel-vfl3z5WfW.gif',\n",
       " '/yts/img/pixel-vfl3z5WfW.gif',\n",
       " '/yts/img/pixel-vfl3z5WfW.gif',\n",
       " '/yts/img/pixel-vfl3z5WfW.gif',\n",
       " '/yts/img/pixel-vfl3z5WfW.gif',\n",
       " '//yt3.ggpht.com/qPjuML2POFSSvvdDMceBx-olPgR1uaFjV4K1SMChXEnUt2BBjOigsAQYS0urGkatwkmICfvGkYTV8XYJLw=s88-nd-c-c0xffffffff-rj-k-no',\n",
       " '/yts/img/pixel-vfl3z5WfW.gif',\n",
       " '/yts/img/pixel-vfl3z5WfW.gif',\n",
       " '/yts/img/pixel-vfl3z5WfW.gif',\n",
       " '/yts/img/pixel-vfl3z5WfW.gif',\n",
       " '/yts/img/pixel-vfl3z5WfW.gif',\n",
       " '/yts/img/pixel-vfl3z5WfW.gif',\n",
       " '/yts/img/pixel-vfl3z5WfW.gif',\n",
       " '/yts/img/pixel-vfl3z5WfW.gif',\n",
       " '/yts/img/pixel-vfl3z5WfW.gif',\n",
       " '/yts/img/pixel-vfl3z5WfW.gif',\n",
       " '/yts/img/pixel-vfl3z5WfW.gif',\n",
       " '/yts/img/pixel-vfl3z5WfW.gif',\n",
       " '/yts/img/pixel-vfl3z5WfW.gif',\n",
       " '/yts/img/pixel-vfl3z5WfW.gif',\n",
       " 'https://yt3.ggpht.com/a-/AAuE7mAjF5LXtRxAL7o3wI-VJmuDCOQUWyUgtkEVmQ=s88-mo-c-c0xffffffff-rj-k-no',\n",
       " '/yts/img/pixel-vfl3z5WfW.gif',\n",
       " '/yts/img/pixel-vfl3z5WfW.gif',\n",
       " '/yts/img/pixel-vfl3z5WfW.gif',\n",
       " '/yts/img/pixel-vfl3z5WfW.gif',\n",
       " '/yts/img/pixel-vfl3z5WfW.gif',\n",
       " '/yts/img/pixel-vfl3z5WfW.gif',\n",
       " '/yts/img/pixel-vfl3z5WfW.gif']"
      ]
     },
     "execution_count": 10,
     "metadata": {},
     "output_type": "execute_result"
    }
   ],
   "source": [
    "l2"
   ]
  },
  {
   "cell_type": "code",
   "execution_count": 9,
   "metadata": {},
   "outputs": [
    {
     "name": "stdout",
     "output_type": "stream",
     "text": [
      "1.jpg\n"
     ]
    },
    {
     "ename": "ValueError",
     "evalue": "unknown url type: '/yts/img/pixel-vfl3z5WfW.gif'",
     "output_type": "error",
     "traceback": [
      "\u001b[1;31m---------------------------------------------------------------------------\u001b[0m",
      "\u001b[1;31mValueError\u001b[0m                                Traceback (most recent call last)",
      "\u001b[1;32m<ipython-input-9-af86ead4bf11>\u001b[0m in \u001b[0;36m<module>\u001b[1;34m\u001b[0m\n\u001b[0;32m      4\u001b[0m     \u001b[0mstring\u001b[0m\u001b[1;33m=\u001b[0m\u001b[0mstr\u001b[0m\u001b[1;33m(\u001b[0m\u001b[0mcount\u001b[0m\u001b[1;33m)\u001b[0m\u001b[1;33m+\u001b[0m\u001b[1;34m\".jpg\"\u001b[0m\u001b[1;33m\u001b[0m\u001b[1;33m\u001b[0m\u001b[0m\n\u001b[0;32m      5\u001b[0m     \u001b[0mprint\u001b[0m\u001b[1;33m(\u001b[0m\u001b[0mstring\u001b[0m\u001b[1;33m)\u001b[0m\u001b[1;33m\u001b[0m\u001b[1;33m\u001b[0m\u001b[0m\n\u001b[1;32m----> 6\u001b[1;33m     \u001b[0murllib\u001b[0m\u001b[1;33m.\u001b[0m\u001b[0mrequest\u001b[0m\u001b[1;33m.\u001b[0m\u001b[0murlretrieve\u001b[0m\u001b[1;33m(\u001b[0m\u001b[0mi\u001b[0m\u001b[1;33m,\u001b[0m\u001b[0mstring\u001b[0m\u001b[1;33m)\u001b[0m\u001b[1;33m\u001b[0m\u001b[1;33m\u001b[0m\u001b[0m\n\u001b[0m",
      "\u001b[1;32m~\\Anaconda3\\lib\\urllib\\request.py\u001b[0m in \u001b[0;36murlretrieve\u001b[1;34m(url, filename, reporthook, data)\u001b[0m\n\u001b[0;32m    245\u001b[0m     \u001b[0murl_type\u001b[0m\u001b[1;33m,\u001b[0m \u001b[0mpath\u001b[0m \u001b[1;33m=\u001b[0m \u001b[0msplittype\u001b[0m\u001b[1;33m(\u001b[0m\u001b[0murl\u001b[0m\u001b[1;33m)\u001b[0m\u001b[1;33m\u001b[0m\u001b[1;33m\u001b[0m\u001b[0m\n\u001b[0;32m    246\u001b[0m \u001b[1;33m\u001b[0m\u001b[0m\n\u001b[1;32m--> 247\u001b[1;33m     \u001b[1;32mwith\u001b[0m \u001b[0mcontextlib\u001b[0m\u001b[1;33m.\u001b[0m\u001b[0mclosing\u001b[0m\u001b[1;33m(\u001b[0m\u001b[0murlopen\u001b[0m\u001b[1;33m(\u001b[0m\u001b[0murl\u001b[0m\u001b[1;33m,\u001b[0m \u001b[0mdata\u001b[0m\u001b[1;33m)\u001b[0m\u001b[1;33m)\u001b[0m \u001b[1;32mas\u001b[0m \u001b[0mfp\u001b[0m\u001b[1;33m:\u001b[0m\u001b[1;33m\u001b[0m\u001b[1;33m\u001b[0m\u001b[0m\n\u001b[0m\u001b[0;32m    248\u001b[0m         \u001b[0mheaders\u001b[0m \u001b[1;33m=\u001b[0m \u001b[0mfp\u001b[0m\u001b[1;33m.\u001b[0m\u001b[0minfo\u001b[0m\u001b[1;33m(\u001b[0m\u001b[1;33m)\u001b[0m\u001b[1;33m\u001b[0m\u001b[1;33m\u001b[0m\u001b[0m\n\u001b[0;32m    249\u001b[0m \u001b[1;33m\u001b[0m\u001b[0m\n",
      "\u001b[1;32m~\\Anaconda3\\lib\\urllib\\request.py\u001b[0m in \u001b[0;36murlopen\u001b[1;34m(url, data, timeout, cafile, capath, cadefault, context)\u001b[0m\n\u001b[0;32m    220\u001b[0m     \u001b[1;32melse\u001b[0m\u001b[1;33m:\u001b[0m\u001b[1;33m\u001b[0m\u001b[1;33m\u001b[0m\u001b[0m\n\u001b[0;32m    221\u001b[0m         \u001b[0mopener\u001b[0m \u001b[1;33m=\u001b[0m \u001b[0m_opener\u001b[0m\u001b[1;33m\u001b[0m\u001b[1;33m\u001b[0m\u001b[0m\n\u001b[1;32m--> 222\u001b[1;33m     \u001b[1;32mreturn\u001b[0m \u001b[0mopener\u001b[0m\u001b[1;33m.\u001b[0m\u001b[0mopen\u001b[0m\u001b[1;33m(\u001b[0m\u001b[0murl\u001b[0m\u001b[1;33m,\u001b[0m \u001b[0mdata\u001b[0m\u001b[1;33m,\u001b[0m \u001b[0mtimeout\u001b[0m\u001b[1;33m)\u001b[0m\u001b[1;33m\u001b[0m\u001b[1;33m\u001b[0m\u001b[0m\n\u001b[0m\u001b[0;32m    223\u001b[0m \u001b[1;33m\u001b[0m\u001b[0m\n\u001b[0;32m    224\u001b[0m \u001b[1;32mdef\u001b[0m \u001b[0minstall_opener\u001b[0m\u001b[1;33m(\u001b[0m\u001b[0mopener\u001b[0m\u001b[1;33m)\u001b[0m\u001b[1;33m:\u001b[0m\u001b[1;33m\u001b[0m\u001b[1;33m\u001b[0m\u001b[0m\n",
      "\u001b[1;32m~\\Anaconda3\\lib\\urllib\\request.py\u001b[0m in \u001b[0;36mopen\u001b[1;34m(self, fullurl, data, timeout)\u001b[0m\n\u001b[0;32m    508\u001b[0m         \u001b[1;31m# accept a URL or a Request object\u001b[0m\u001b[1;33m\u001b[0m\u001b[1;33m\u001b[0m\u001b[1;33m\u001b[0m\u001b[0m\n\u001b[0;32m    509\u001b[0m         \u001b[1;32mif\u001b[0m \u001b[0misinstance\u001b[0m\u001b[1;33m(\u001b[0m\u001b[0mfullurl\u001b[0m\u001b[1;33m,\u001b[0m \u001b[0mstr\u001b[0m\u001b[1;33m)\u001b[0m\u001b[1;33m:\u001b[0m\u001b[1;33m\u001b[0m\u001b[1;33m\u001b[0m\u001b[0m\n\u001b[1;32m--> 510\u001b[1;33m             \u001b[0mreq\u001b[0m \u001b[1;33m=\u001b[0m \u001b[0mRequest\u001b[0m\u001b[1;33m(\u001b[0m\u001b[0mfullurl\u001b[0m\u001b[1;33m,\u001b[0m \u001b[0mdata\u001b[0m\u001b[1;33m)\u001b[0m\u001b[1;33m\u001b[0m\u001b[1;33m\u001b[0m\u001b[0m\n\u001b[0m\u001b[0;32m    511\u001b[0m         \u001b[1;32melse\u001b[0m\u001b[1;33m:\u001b[0m\u001b[1;33m\u001b[0m\u001b[1;33m\u001b[0m\u001b[0m\n\u001b[0;32m    512\u001b[0m             \u001b[0mreq\u001b[0m \u001b[1;33m=\u001b[0m \u001b[0mfullurl\u001b[0m\u001b[1;33m\u001b[0m\u001b[1;33m\u001b[0m\u001b[0m\n",
      "\u001b[1;32m~\\Anaconda3\\lib\\urllib\\request.py\u001b[0m in \u001b[0;36m__init__\u001b[1;34m(self, url, data, headers, origin_req_host, unverifiable, method)\u001b[0m\n\u001b[0;32m    326\u001b[0m                  \u001b[0morigin_req_host\u001b[0m\u001b[1;33m=\u001b[0m\u001b[1;32mNone\u001b[0m\u001b[1;33m,\u001b[0m \u001b[0munverifiable\u001b[0m\u001b[1;33m=\u001b[0m\u001b[1;32mFalse\u001b[0m\u001b[1;33m,\u001b[0m\u001b[1;33m\u001b[0m\u001b[1;33m\u001b[0m\u001b[0m\n\u001b[0;32m    327\u001b[0m                  method=None):\n\u001b[1;32m--> 328\u001b[1;33m         \u001b[0mself\u001b[0m\u001b[1;33m.\u001b[0m\u001b[0mfull_url\u001b[0m \u001b[1;33m=\u001b[0m \u001b[0murl\u001b[0m\u001b[1;33m\u001b[0m\u001b[1;33m\u001b[0m\u001b[0m\n\u001b[0m\u001b[0;32m    329\u001b[0m         \u001b[0mself\u001b[0m\u001b[1;33m.\u001b[0m\u001b[0mheaders\u001b[0m \u001b[1;33m=\u001b[0m \u001b[1;33m{\u001b[0m\u001b[1;33m}\u001b[0m\u001b[1;33m\u001b[0m\u001b[1;33m\u001b[0m\u001b[0m\n\u001b[0;32m    330\u001b[0m         \u001b[0mself\u001b[0m\u001b[1;33m.\u001b[0m\u001b[0munredirected_hdrs\u001b[0m \u001b[1;33m=\u001b[0m \u001b[1;33m{\u001b[0m\u001b[1;33m}\u001b[0m\u001b[1;33m\u001b[0m\u001b[1;33m\u001b[0m\u001b[0m\n",
      "\u001b[1;32m~\\Anaconda3\\lib\\urllib\\request.py\u001b[0m in \u001b[0;36mfull_url\u001b[1;34m(self, url)\u001b[0m\n\u001b[0;32m    352\u001b[0m         \u001b[0mself\u001b[0m\u001b[1;33m.\u001b[0m\u001b[0m_full_url\u001b[0m \u001b[1;33m=\u001b[0m \u001b[0munwrap\u001b[0m\u001b[1;33m(\u001b[0m\u001b[0murl\u001b[0m\u001b[1;33m)\u001b[0m\u001b[1;33m\u001b[0m\u001b[1;33m\u001b[0m\u001b[0m\n\u001b[0;32m    353\u001b[0m         \u001b[0mself\u001b[0m\u001b[1;33m.\u001b[0m\u001b[0m_full_url\u001b[0m\u001b[1;33m,\u001b[0m \u001b[0mself\u001b[0m\u001b[1;33m.\u001b[0m\u001b[0mfragment\u001b[0m \u001b[1;33m=\u001b[0m \u001b[0msplittag\u001b[0m\u001b[1;33m(\u001b[0m\u001b[0mself\u001b[0m\u001b[1;33m.\u001b[0m\u001b[0m_full_url\u001b[0m\u001b[1;33m)\u001b[0m\u001b[1;33m\u001b[0m\u001b[1;33m\u001b[0m\u001b[0m\n\u001b[1;32m--> 354\u001b[1;33m         \u001b[0mself\u001b[0m\u001b[1;33m.\u001b[0m\u001b[0m_parse\u001b[0m\u001b[1;33m(\u001b[0m\u001b[1;33m)\u001b[0m\u001b[1;33m\u001b[0m\u001b[1;33m\u001b[0m\u001b[0m\n\u001b[0m\u001b[0;32m    355\u001b[0m \u001b[1;33m\u001b[0m\u001b[0m\n\u001b[0;32m    356\u001b[0m     \u001b[1;33m@\u001b[0m\u001b[0mfull_url\u001b[0m\u001b[1;33m.\u001b[0m\u001b[0mdeleter\u001b[0m\u001b[1;33m\u001b[0m\u001b[1;33m\u001b[0m\u001b[0m\n",
      "\u001b[1;32m~\\Anaconda3\\lib\\urllib\\request.py\u001b[0m in \u001b[0;36m_parse\u001b[1;34m(self)\u001b[0m\n\u001b[0;32m    381\u001b[0m         \u001b[0mself\u001b[0m\u001b[1;33m.\u001b[0m\u001b[0mtype\u001b[0m\u001b[1;33m,\u001b[0m \u001b[0mrest\u001b[0m \u001b[1;33m=\u001b[0m \u001b[0msplittype\u001b[0m\u001b[1;33m(\u001b[0m\u001b[0mself\u001b[0m\u001b[1;33m.\u001b[0m\u001b[0m_full_url\u001b[0m\u001b[1;33m)\u001b[0m\u001b[1;33m\u001b[0m\u001b[1;33m\u001b[0m\u001b[0m\n\u001b[0;32m    382\u001b[0m         \u001b[1;32mif\u001b[0m \u001b[0mself\u001b[0m\u001b[1;33m.\u001b[0m\u001b[0mtype\u001b[0m \u001b[1;32mis\u001b[0m \u001b[1;32mNone\u001b[0m\u001b[1;33m:\u001b[0m\u001b[1;33m\u001b[0m\u001b[1;33m\u001b[0m\u001b[0m\n\u001b[1;32m--> 383\u001b[1;33m             \u001b[1;32mraise\u001b[0m \u001b[0mValueError\u001b[0m\u001b[1;33m(\u001b[0m\u001b[1;34m\"unknown url type: %r\"\u001b[0m \u001b[1;33m%\u001b[0m \u001b[0mself\u001b[0m\u001b[1;33m.\u001b[0m\u001b[0mfull_url\u001b[0m\u001b[1;33m)\u001b[0m\u001b[1;33m\u001b[0m\u001b[1;33m\u001b[0m\u001b[0m\n\u001b[0m\u001b[0;32m    384\u001b[0m         \u001b[0mself\u001b[0m\u001b[1;33m.\u001b[0m\u001b[0mhost\u001b[0m\u001b[1;33m,\u001b[0m \u001b[0mself\u001b[0m\u001b[1;33m.\u001b[0m\u001b[0mselector\u001b[0m \u001b[1;33m=\u001b[0m \u001b[0msplithost\u001b[0m\u001b[1;33m(\u001b[0m\u001b[0mrest\u001b[0m\u001b[1;33m)\u001b[0m\u001b[1;33m\u001b[0m\u001b[1;33m\u001b[0m\u001b[0m\n\u001b[0;32m    385\u001b[0m         \u001b[1;32mif\u001b[0m \u001b[0mself\u001b[0m\u001b[1;33m.\u001b[0m\u001b[0mhost\u001b[0m\u001b[1;33m:\u001b[0m\u001b[1;33m\u001b[0m\u001b[1;33m\u001b[0m\u001b[0m\n",
      "\u001b[1;31mValueError\u001b[0m: unknown url type: '/yts/img/pixel-vfl3z5WfW.gif'"
     ]
    }
   ],
   "source": [
    "count=0\n",
    "for i in l2:\n",
    "    count=count+1\n",
    "    string=str(count)+\".jpg\"\n",
    "    print(string)\n",
    "    urllib.request.urlretrieve(i,string)"
   ]
  },
  {
   "cell_type": "code",
   "execution_count": null,
   "metadata": {},
   "outputs": [],
   "source": []
  }
 ],
 "metadata": {
  "kernelspec": {
   "display_name": "Python 3",
   "language": "python",
   "name": "python3"
  },
  "language_info": {
   "codemirror_mode": {
    "name": "ipython",
    "version": 3
   },
   "file_extension": ".py",
   "mimetype": "text/x-python",
   "name": "python",
   "nbconvert_exporter": "python",
   "pygments_lexer": "ipython3",
   "version": "3.7.1"
  }
 },
 "nbformat": 4,
 "nbformat_minor": 2
}
